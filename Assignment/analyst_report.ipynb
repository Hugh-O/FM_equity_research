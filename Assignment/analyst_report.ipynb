{
 "cells": [
  {
   "cell_type": "markdown",
   "id": "8b37e9d2",
   "metadata": {},
   "source": [
    "To aid in generating an equity research report for Bendigo and Adelaide bank, first a fundimental analysis is performed by defining relevent functions to calculate key profitability, liquidity and efficiency and valuation ratios. "
   ]
  },
  {
   "cell_type": "markdown",
   "id": "796ae27d",
   "metadata": {},
   "source": [
    "Runs instance of DDM.py to create model"
   ]
  },
  {
   "cell_type": "code",
   "execution_count": null,
   "id": "0978850d",
   "metadata": {},
   "outputs": [],
   "source": []
  },
  {
   "cell_type": "code",
   "execution_count": null,
   "id": "d0b536a7",
   "metadata": {},
   "outputs": [],
   "source": [
    "def net_interest_margin(net_interest, earning_assets):\n",
    "    nim = net_interest / earning_assets\n",
    "    return nim\n",
    "def calculate_dividend_yield(dividend, last_price):\n",
    "    if last_price == 0:\n",
    "        return 0\n",
    "    return dividend / last_price\n",
    "def calculate_pe_ratio(last_price, eps):\n",
    "    if eps == 0:\n",
    "        return 0\n",
    "    return last_price / eps\n",
    "def calculate_eps(earnings, shares_outstanding):\n",
    "    if shares_outstanding == 0:\n",
    "        return 0\n",
    "    return earnings / shares_outstanding\n",
    "def calculate_roa(earnings, total_assets):\n",
    "    if total_assets == 0:\n",
    "        return 0\n",
    "    return earnings / total_assets\n",
    "def calculate_pe_ratio(last_price, eps):\n",
    "    if eps == 0:\n",
    "        return 0\n",
    "    return last_price / eps\n",
    "def calculate_eps(earnings, shares_outstanding):\n",
    "    if shares_outstanding == 0:\n",
    "        return 0\n",
    "    return earnings / shares_outstanding"
   ]
  },
  {
   "cell_type": "markdown",
   "id": "453e2339",
   "metadata": {},
   "source": [
    "To provide "
   ]
  },
  {
   "cell_type": "markdown",
   "id": "9ed61243",
   "metadata": {},
   "source": [
    "Specific "
   ]
  },
  {
   "cell_type": "markdown",
   "id": "3ccf99de",
   "metadata": {},
   "source": [
    "Comentary for the company was developed from all previous analysis to include an executive summary, business overview, investment theses and analysis of key finanical ratios. Calculated financial data was inserted into the text using the \"in\" python function. "
   ]
  },
  {
   "cell_type": "code",
   "execution_count": 26,
   "id": "82294f4f",
   "metadata": {},
   "outputs": [
    {
     "data": {
      "text/plain": [
       "''"
      ]
     },
     "execution_count": 26,
     "metadata": {},
     "output_type": "execute_result"
    }
   ],
   "source": [
    "from fpdf import FPDF\n",
    "from html.parser import HTMLParser\n",
    "\n",
    "class PDF(FPDF):\n",
    "    def header(self):\n",
    "        banner_width = self.w - self.l_margin - self.r_margin\n",
    "        self.image('test.png', x=self.l_margin, y=5, w=banner_width, h=20)\n",
    "    def footer(self):\n",
    "        self.set_y(-12)\n",
    "        self.set_font('Arial', 'I', 8)\n",
    "        self.cell(0, 8, f'Page {self.page_no()}', align='C')\n",
    "\n",
    "\n",
    "class MyHTMLParser(HTMLParser):\n",
    "    def __init__(self, pdf):\n",
    "        super().__init__()\n",
    "        self.pdf = pdf\n",
    "        self.current_tag = None\n",
    "\n",
    "    def handle_starttag(self, tag, attrs):\n",
    "        self.current_tag = tag\n",
    "        if tag == 'h1':\n",
    "            self.pdf.set_font('Arial', 'B', 16)\n",
    "            self.pdf.ln(2)\n",
    "        elif tag == 'h2':\n",
    "            self.pdf.set_font('Arial', 'B', 13)\n",
    "            self.pdf.ln(1)\n",
    "        elif tag == 'p':\n",
    "            self.pdf.set_font('Arial', '', 11)\n",
    "\n",
    "    def handle_endtag(self, tag):\n",
    "        if tag == 'p':\n",
    "            self.pdf.ln(2)  # Smaller paragraph spacing\n",
    "        self.current_tag = None\n",
    "\n",
    "    def handle_data(self, data):\n",
    "        if self.current_tag:\n",
    "            self.pdf.multi_cell(0, 6, data)  # Reduced line height\n",
    "        else:\n",
    "            self.pdf.multi_cell(0, 6, data)\n",
    "\n",
    "\n",
    "# Read the commentary text\n",
    "with open(\"commentary.txt\", \"r\", encoding=\"utf-8\") as f:\n",
    "    content = f.read()\n",
    "\n",
    "# Create and configure the PDF\n",
    "my_pdf = PDF(orientation='P', unit='mm', format='A4')\n",
    "my_pdf.set_auto_page_break(auto=True, margin=15)\n",
    "my_pdf.add_page()\n",
    "my_pdf.set_font('Arial', '', 11)\n",
    "\n",
    "# Parse and render the HTML content\n",
    "parser = MyHTMLParser(my_pdf)\n",
    "parser.feed(content)\n",
    "\n",
    "# Output the final PDF\n",
    "my_pdf.output('hello_world.pdf')\n"
   ]
  },
  {
   "cell_type": "markdown",
   "id": "d37fd9ef",
   "metadata": {},
   "source": [
    "To provide context for the recent financial performance of the company in 1H25, an image was scrapped from the companies recent announcement of key regulatory ratios and indicators of loan book health. These statistics could not be inferred from the yFinance data and thus provided unique value to the report."
   ]
  },
  {
   "cell_type": "code",
   "execution_count": null,
   "id": "1a0ad574",
   "metadata": {},
   "outputs": [
    {
     "name": "stdout",
     "output_type": "stream",
     "text": [
      "Image URL: https://www.bendigobank.com.au/contentassets/f4ca4760f8394c3582ce67b6a6334bbc/price-table.png\n"
     ]
    }
   ],
   "source": [
    "import requests\n",
    "from bs4 import BeautifulSoup\n",
    "from urllib.parse import urljoin\n",
    "\n",
    "# Step 1: Define the URL\n",
    "url = 'https://www.bendigobank.com.au/media/financial-results-for-the-half-year-ended-31-december-2024/'\n",
    "\n",
    "# Step 2: Fetch the webpage\n",
    "response = requests.get(url)\n",
    "response.raise_for_status()\n",
    "\n",
    "# Step 3: Parse the HTML\n",
    "soup = BeautifulSoup(response.text, 'html.parser')\n",
    "\n",
    "# Step 4: Find the image with the specific src\n",
    "target_src = '/contentassets/f4ca4760f8394c3582ce67b6a6334bbc/price-table.png'\n",
    "img_tag = soup.find('img', {'src': target_src})\n",
    "\n",
    "# Step 5: If found, build the full image URL and download\n",
    "if img_tag:\n",
    "    img_url = urljoin(url, img_tag['src'])  # Build absolute URL\n",
    "    img_response = requests.get(img_url)\n",
    "    img_response.raise_for_status()\n",
    "    with open('financial_results.png', 'wb') as f:\n",
    "        f.write(img_response.content)\n"
   ]
  },
  {
   "cell_type": "code",
   "execution_count": 1,
   "id": "6e2a7ed0",
   "metadata": {},
   "outputs": [
    {
     "name": "stdout",
     "output_type": "stream",
     "text": [
      "Banks campaign for cash levy to avoid Armaguard ‘monopoly’\n",
      "Slash stamp duty to encourage retirees to downsize: ING\n",
      "Bank profit falls send uneasy investors into panic mode\n",
      "The ASX queries Bendigo Bank’s disclosures after share price tumble\n",
      "What we learnt: Investors just handed out the biggest beating of profit season\n",
      "Surge in Bendigo Bank lending crunches margins, sends shares sliding\n",
      "Westpac boss supports RBA rate cut, says it will deliver needed relief\n",
      "Banks would face new loan regime under Coalition amid ESG pushback\n",
      "Credit to Chalmers for non-partisan RBA picks\n",
      "Macquarie, Westpac and CBA big losers from $350m rural bank levy\n"
     ]
    }
   ],
   "source": [
    "import requests\n",
    "from bs4 import BeautifulSoup\n",
    "\n",
    "# Reading in AFR URL for Bendigo Website\n",
    "AFR = 'https://www.afr.com/company/asx/ben'\n",
    "RawHTML = requests.get(AFR)\n",
    "\n",
    "# Parse the raw HTML using BeautifulSoup\n",
    "parse = BeautifulSoup(RawHTML.content, 'html.parser')\n",
    "\n",
    "# Find recent AFR headlines by filtering to publication-specific format\n",
    "headlines = parse.find_all('h3', class_='-_73414cb90844eda9-headline')\n",
    "\n",
    "# Pull and print the most recent 10 headlines\n",
    "for headline in headlines[:10]:\n",
    "    print(headline.get_text(strip=True))"
   ]
  }
 ],
 "metadata": {
  "kernelspec": {
   "display_name": "Python 3",
   "language": "python",
   "name": "python3"
  },
  "language_info": {
   "codemirror_mode": {
    "name": "ipython",
    "version": 3
   },
   "file_extension": ".py",
   "mimetype": "text/x-python",
   "name": "python",
   "nbconvert_exporter": "python",
   "pygments_lexer": "ipython3",
   "version": "3.13.2"
  }
 },
 "nbformat": 4,
 "nbformat_minor": 5
}
