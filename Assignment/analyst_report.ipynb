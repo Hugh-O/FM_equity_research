{
 "cells": [
  {
   "cell_type": "markdown",
   "id": "8b37e9d2",
   "metadata": {},
   "source": [
    "To aid in generating an equity research report for Bendigo and Adelaide bank, first a fundimental analysis is performed by defining relevent functions to calculate key profitability, liquidity and efficiency and valuation ratios. "
   ]
  },
  {
   "cell_type": "code",
   "execution_count": null,
   "id": "d0b536a7",
   "metadata": {},
   "outputs": [],
   "source": [
    "def net_interest_margin(net_interest, earning_assets):\n",
    "    nim = net_interest / earning_assets\n",
    "    return nim\n",
    "def calculate_dividend_yield(dividend, last_price):\n",
    "    if last_price == 0:\n",
    "        return 0\n",
    "    return dividend / last_price\n",
    "def calculate_pe_ratio(last_price, eps):\n",
    "    if eps == 0:\n",
    "        return 0\n",
    "    return last_price / eps\n",
    "def calculate_eps(earnings, shares_outstanding):\n",
    "    if shares_outstanding == 0:\n",
    "        return 0\n",
    "    return earnings / shares_outstanding\n",
    "def calculate_roa(earnings, total_assets):\n",
    "    if total_assets == 0:\n",
    "        return 0\n",
    "    return earnings / total_assets\n",
    "def calculate_pe_ratio(last_price, eps):\n",
    "    if eps == 0:\n",
    "        return 0\n",
    "    return last_price / eps\n",
    "def calculate_eps(earnings, shares_outstanding):\n",
    "    if shares_outstanding == 0:\n",
    "        return 0\n",
    "    return earnings / shares_outstanding"
   ]
  },
  {
   "cell_type": "markdown",
   "id": "453e2339",
   "metadata": {},
   "source": [
    "To provide "
   ]
  },
  {
   "cell_type": "markdown",
   "id": "9ed61243",
   "metadata": {},
   "source": [
    "Specific "
   ]
  },
  {
   "cell_type": "markdown",
   "id": "3ccf99de",
   "metadata": {},
   "source": [
    "Comentary for the company was developed from all previous analysis to include an executive summary, business overview, investment theses and analysis of key finanical ratios. Calculated financial data was inserted into the text using the \"in\" python function. "
   ]
  },
  {
   "cell_type": "code",
   "execution_count": null,
   "id": "82294f4f",
   "metadata": {},
   "outputs": [
    {
     "ename": "RuntimeError",
     "evalue": "FPDF error: Undefined font: times new roman B",
     "output_type": "error",
     "traceback": [
      "\u001b[31m---------------------------------------------------------------------------\u001b[39m",
      "\u001b[31mRuntimeError\u001b[39m                              Traceback (most recent call last)",
      "\u001b[36mCell\u001b[39m\u001b[36m \u001b[39m\u001b[32mIn[13]\u001b[39m\u001b[32m, line 13\u001b[39m\n\u001b[32m     10\u001b[39m my_pdf.add_page()\n\u001b[32m     12\u001b[39m \u001b[38;5;66;03m# Set font\u001b[39;00m\n\u001b[32m---> \u001b[39m\u001b[32m13\u001b[39m \u001b[43mmy_pdf\u001b[49m\u001b[43m.\u001b[49m\u001b[43mset_font\u001b[49m\u001b[43m(\u001b[49m\u001b[33;43m'\u001b[39;49m\u001b[33;43mTimes New Roman\u001b[39;49m\u001b[33;43m'\u001b[39;49m\u001b[43m,\u001b[49m\u001b[33;43m'\u001b[39;49m\u001b[33;43mB\u001b[39;49m\u001b[33;43m'\u001b[39;49m\u001b[43m,\u001b[49m\u001b[43m \u001b[49m\u001b[32;43m11\u001b[39;49m\u001b[43m)\u001b[49m\n\u001b[32m     15\u001b[39m \u001b[38;5;66;03m# Set automatic page break\u001b[39;00m\n\u001b[32m     16\u001b[39m my_pdf.set_auto_page_break(auto=\u001b[38;5;28;01mTrue\u001b[39;00m, margin=\u001b[32m15\u001b[39m)\n",
      "\u001b[36mFile \u001b[39m\u001b[32mc:\\Users\\Hugh\\Documents\\GITHUB\\FM_equity_research\\.venv\\Lib\\site-packages\\fpdf\\fpdf.py:603\u001b[39m, in \u001b[36mFPDF.set_font\u001b[39m\u001b[34m(self, family, style, size)\u001b[39m\n\u001b[32m    601\u001b[39m         \u001b[38;5;28mself\u001b[39m.fonts[fontkey]={\u001b[33m'\u001b[39m\u001b[33mi\u001b[39m\u001b[33m'\u001b[39m:i,\u001b[33m'\u001b[39m\u001b[33mtype\u001b[39m\u001b[33m'\u001b[39m:\u001b[33m'\u001b[39m\u001b[33mcore\u001b[39m\u001b[33m'\u001b[39m,\u001b[33m'\u001b[39m\u001b[33mname\u001b[39m\u001b[33m'\u001b[39m:\u001b[38;5;28mself\u001b[39m.core_fonts[fontkey],\u001b[33m'\u001b[39m\u001b[33mup\u001b[39m\u001b[33m'\u001b[39m:-\u001b[32m100\u001b[39m,\u001b[33m'\u001b[39m\u001b[33mut\u001b[39m\u001b[33m'\u001b[39m:\u001b[32m50\u001b[39m,\u001b[33m'\u001b[39m\u001b[33mcw\u001b[39m\u001b[33m'\u001b[39m:fpdf_charwidths[fontkey]}\n\u001b[32m    602\u001b[39m     \u001b[38;5;28;01melse\u001b[39;00m:\n\u001b[32m--> \u001b[39m\u001b[32m603\u001b[39m         \u001b[38;5;28;43mself\u001b[39;49m\u001b[43m.\u001b[49m\u001b[43merror\u001b[49m\u001b[43m(\u001b[49m\u001b[33;43m'\u001b[39;49m\u001b[33;43mUndefined font: \u001b[39;49m\u001b[33;43m'\u001b[39;49m\u001b[43m+\u001b[49m\u001b[43mfamily\u001b[49m\u001b[43m+\u001b[49m\u001b[33;43m'\u001b[39;49m\u001b[33;43m \u001b[39;49m\u001b[33;43m'\u001b[39;49m\u001b[43m+\u001b[49m\u001b[43mstyle\u001b[49m\u001b[43m)\u001b[49m\n\u001b[32m    604\u001b[39m \u001b[38;5;66;03m#Select it\u001b[39;00m\n\u001b[32m    605\u001b[39m \u001b[38;5;28mself\u001b[39m.font_family=family\n",
      "\u001b[36mFile \u001b[39m\u001b[32mc:\\Users\\Hugh\\Documents\\GITHUB\\FM_equity_research\\.venv\\Lib\\site-packages\\fpdf\\fpdf.py:227\u001b[39m, in \u001b[36mFPDF.error\u001b[39m\u001b[34m(self, msg)\u001b[39m\n\u001b[32m    225\u001b[39m \u001b[38;5;28;01mdef\u001b[39;00m\u001b[38;5;250m \u001b[39m\u001b[34merror\u001b[39m(\u001b[38;5;28mself\u001b[39m, msg):\n\u001b[32m    226\u001b[39m     \u001b[33m\"\u001b[39m\u001b[33mFatal error\u001b[39m\u001b[33m\"\u001b[39m\n\u001b[32m--> \u001b[39m\u001b[32m227\u001b[39m     \u001b[38;5;28;01mraise\u001b[39;00m \u001b[38;5;167;01mRuntimeError\u001b[39;00m(\u001b[33m'\u001b[39m\u001b[33mFPDF error: \u001b[39m\u001b[33m'\u001b[39m+msg)\n",
      "\u001b[31mRuntimeError\u001b[39m: FPDF error: Undefined font: times new roman B"
     ]
    }
   ],
   "source": [
    "with open(\"commentary.txt\", \"r\") as file:\n",
    "    lines = file.read()\n",
    "\n",
    "from fpdf import FPDF\n",
    "\n",
    "# Create a PDF object\n",
    "my_pdf = FPDF(orientation='P', unit='mm', format='A4')\n",
    "\n",
    "# Add a page\n",
    "my_pdf.add_page()\n",
    "\n",
    "# Set font\n",
    "my_pdf.set_font('Times','', 11)\n",
    "\n",
    "# Set automatic page break\n",
    "my_pdf.set_auto_page_break(auto=True, margin=15)\n",
    "\n",
    "# Add text\n",
    "my_pdf.multi_cell(0, 10, lines)\n",
    "\n",
    "# Save the PDF\n",
    "my_pdf.output('hello_world.pdf')\n",
    "\n",
    "\n"
   ]
  },
  {
   "cell_type": "markdown",
   "id": "e590116c",
   "metadata": {},
   "source": []
  }
 ],
 "metadata": {
  "kernelspec": {
   "display_name": ".venv",
   "language": "python",
   "name": "python3"
  },
  "language_info": {
   "codemirror_mode": {
    "name": "ipython",
    "version": 3
   },
   "file_extension": ".py",
   "mimetype": "text/x-python",
   "name": "python",
   "nbconvert_exporter": "python",
   "pygments_lexer": "ipython3",
   "version": "3.11.2"
  }
 },
 "nbformat": 4,
 "nbformat_minor": 5
}
