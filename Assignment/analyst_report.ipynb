{
 "cells": [
  {
   "cell_type": "markdown",
   "id": "8b37e9d2",
   "metadata": {},
   "source": [
    "To aid in generating an equity research report for Bendigo and Adelaide bank, first a fundimental analysis is performed by defining relevent functions to calculate key profitability, liquidity and efficiency and valuation ratios. "
   ]
  },
  {
   "cell_type": "code",
   "execution_count": null,
   "id": "d0b536a7",
   "metadata": {},
   "outputs": [],
   "source": [
    "def net_interest_margin(net_interest, earning_assets):\n",
    "    nim = net_interest / earning_assets\n",
    "    return nim\n",
    "def calculate_dividend_yield(dividend, last_price):\n",
    "    if last_price == 0:\n",
    "        return 0\n",
    "    return dividend / last_price\n",
    "def calculate_pe_ratio(last_price, eps):\n",
    "    if eps == 0:\n",
    "        return 0\n",
    "    return last_price / eps\n",
    "def calculate_eps(earnings, shares_outstanding):\n",
    "    if shares_outstanding == 0:\n",
    "        return 0\n",
    "    return earnings / shares_outstanding\n",
    "def calculate_roa(earnings, total_assets):\n",
    "    if total_assets == 0:\n",
    "        return 0\n",
    "    return earnings / total_assets\n",
    "def calculate_pe_ratio(last_price, eps):\n",
    "    if eps == 0:\n",
    "        return 0\n",
    "    return last_price / eps\n",
    "def calculate_eps(earnings, shares_outstanding):\n",
    "    if shares_outstanding == 0:\n",
    "        return 0\n",
    "    return earnings / shares_outstanding"
   ]
  },
  {
   "cell_type": "markdown",
   "id": "9ed61243",
   "metadata": {},
   "source": [
    "Specific "
   ]
  },
  {
   "cell_type": "markdown",
   "id": "3ccf99de",
   "metadata": {},
   "source": [
    "Comentary for the company was developed from all previous analysis to include an executive summary, business overview, investment theses and analysis of key finanical ratios. This was  "
   ]
  }
 ],
 "metadata": {
  "kernelspec": {
   "display_name": ".venv",
   "language": "python",
   "name": "python3"
  },
  "language_info": {
   "codemirror_mode": {
    "name": "ipython",
    "version": 3
   },
   "file_extension": ".py",
   "mimetype": "text/x-python",
   "name": "python",
   "nbconvert_exporter": "python",
   "pygments_lexer": "ipython3",
   "version": "3.11.2"
  }
 },
 "nbformat": 4,
 "nbformat_minor": 5
}
