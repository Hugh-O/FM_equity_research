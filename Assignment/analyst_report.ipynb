{
 "cells": [
  {
   "cell_type": "markdown",
   "id": "8b37e9d2",
   "metadata": {},
   "source": [
    "To aid in generating an equity research report for Bendigo and Adelaide bank, first a fundimental analysis is performed by defining relevent functions to calculate key profitability, liquidity and efficiency and valuation ratios. "
   ]
  },
  {
   "cell_type": "markdown",
   "id": "796ae27d",
   "metadata": {},
   "source": [
    "Runs instance of DDM.py to create model"
   ]
  },
  {
   "cell_type": "code",
   "execution_count": null,
   "id": "0978850d",
   "metadata": {},
   "outputs": [],
   "source": []
  },
  {
   "cell_type": "code",
   "execution_count": null,
   "id": "d0b536a7",
   "metadata": {},
   "outputs": [],
   "source": [
    "def net_interest_margin(net_interest, earning_assets):\n",
    "    nim = net_interest / earning_assets\n",
    "    return nim\n",
    "def calculate_dividend_yield(dividend, last_price):\n",
    "    if last_price == 0:\n",
    "        return 0\n",
    "    return dividend / last_price\n",
    "def calculate_pe_ratio(last_price, eps):\n",
    "    if eps == 0:\n",
    "        return 0\n",
    "    return last_price / eps\n",
    "def calculate_eps(earnings, shares_outstanding):\n",
    "    if shares_outstanding == 0:\n",
    "        return 0\n",
    "    return earnings / shares_outstanding\n",
    "def calculate_roa(earnings, total_assets):\n",
    "    if total_assets == 0:\n",
    "        return 0\n",
    "    return earnings / total_assets\n",
    "def calculate_pe_ratio(last_price, eps):\n",
    "    if eps == 0:\n",
    "        return 0\n",
    "    return last_price / eps\n",
    "def calculate_eps(earnings, shares_outstanding):\n",
    "    if shares_outstanding == 0:\n",
    "        return 0\n",
    "    return earnings / shares_outstanding"
   ]
  },
  {
   "cell_type": "markdown",
   "id": "453e2339",
   "metadata": {},
   "source": [
    "To provide "
   ]
  },
  {
   "cell_type": "markdown",
   "id": "9ed61243",
   "metadata": {},
   "source": [
    "Specific "
   ]
  },
  {
   "cell_type": "markdown",
   "id": "3ccf99de",
   "metadata": {},
   "source": [
    "Comentary for the company was developed from all previous analysis to include an executive summary, business overview, investment theses and analysis of key finanical ratios. "
   ]
  },
  {
   "cell_type": "code",
   "execution_count": 5,
   "id": "82294f4f",
   "metadata": {},
   "outputs": [],
   "source": [
    "from fpdf import FPDF\n",
    "from html.parser import HTMLParser\n",
    "\n",
    "\n",
    "class PDF(FPDF):\n",
    "    def header(self):\n",
    "        banner_width = self.w - self.l_margin - self.r_margin\n",
    "        self.image('test.png', x=self.l_margin, y=0, w=banner_width, h=20)\n",
    "        self.set_y(25)\n",
    "\n",
    "    def footer(self):\n",
    "        self.set_y(-12)\n",
    "        self.set_font('Arial', 'I', 8)\n",
    "        self.cell(0, 8, f'Page {self.page_no()}', align='C')\n",
    "\n",
    "\n",
    "class ColumnHTMLParser(HTMLParser):\n",
    "    def __init__(self, pdf, x, y, col_width, line_height=6):\n",
    "        super().__init__()\n",
    "        self.pdf = pdf\n",
    "        self.x = x\n",
    "        self.y = y\n",
    "        self.col_width = col_width\n",
    "        self.line_height = line_height\n",
    "        self.current_tag = None\n",
    "        self.pdf.set_xy(x, y)\n",
    "\n",
    "    def handle_starttag(self, tag, attrs):\n",
    "        self.current_tag = tag\n",
    "        if tag == 'h1':\n",
    "            self.pdf.set_font('Arial', 'B', 16)\n",
    "            self.pdf.set_xy(self.x, self.pdf.get_y())\n",
    "        elif tag == 'h2':\n",
    "            self.pdf.set_font('Arial', 'B', 13)\n",
    "            self.pdf.set_xy(self.x, self.pdf.get_y())\n",
    "        elif tag == 'p':\n",
    "            self.pdf.set_font('Arial', '', 11)\n",
    "            self.pdf.set_xy(self.x, self.pdf.get_y())\n",
    "\n",
    "    def handle_endtag(self, tag):\n",
    "        if tag == 'p':\n",
    "            self.pdf.ln(2)\n",
    "        self.current_tag = None\n",
    "\n",
    "    def handle_data(self, data):\n",
    "        self.pdf.multi_cell(self.col_width, self.line_height, data)\n",
    "        self.pdf.set_x(self.x)  # stay in column after line wraps\n",
    "\n",
    "\n",
    "\n",
    "# Set up PDF\n",
    "pdf = PDF()\n",
    "pdf.set_auto_page_break(auto=True, margin=15)\n",
    "pdf.add_page()\n",
    "\n",
    "# Column dimensions\n",
    "total_width = pdf.w - pdf.l_margin - pdf.r_margin\n",
    "col1_w = total_width * 2 / 3\n",
    "col2_w = total_width * 1 / 3\n",
    "line_height = 6\n",
    "\n",
    "# Starting position after header\n",
    "y_start = pdf.get_y()\n"
   ]
  },
  {
   "cell_type": "markdown",
   "id": "62a255f8",
   "metadata": {},
   "source": [
    "Right hand column content"
   ]
  },
  {
   "cell_type": "code",
   "execution_count": 16,
   "id": "bb0653d5",
   "metadata": {},
   "outputs": [],
   "source": [
    "\n",
    "\n",
    "# Right column content\n",
    "# --------- RIGHT COLUMN (Insert Image) ---------\n",
    "pdf.set_xy(pdf.l_margin + col1_w + 5, y_start)\n",
    "right_x = pdf.get_x()\n",
    "right_y = pdf.get_y()\n",
    "\n",
    "# Load image into right column\n",
    "image_width = col2_w - 5  # leave small gap\n",
    "pdf.image('cropped_financial_results.png', x=right_x, y=right_y, w=image_width)\n",
    "\n",
    "# Move cursor after the image\n",
    "pdf.set_y(right_y + 50)  # Adjust 50 to be the height of your image (approx.)\n",
    "y_right_end = pdf.get_y()\n",
    "\n"
   ]
  },
  {
   "cell_type": "markdown",
   "id": "08b9f6ff",
   "metadata": {},
   "source": []
  },
  {
   "cell_type": "code",
   "execution_count": 17,
   "id": "9182b7fe",
   "metadata": {},
   "outputs": [
    {
     "ename": "KeyError",
     "evalue": "'data'",
     "output_type": "error",
     "traceback": [
      "\u001b[31m---------------------------------------------------------------------------\u001b[39m",
      "\u001b[31mKeyError\u001b[39m                                  Traceback (most recent call last)",
      "\u001b[36mCell\u001b[39m\u001b[36m \u001b[39m\u001b[32mIn[17]\u001b[39m\u001b[32m, line 15\u001b[39m\n\u001b[32m     12\u001b[39m pdf.set_y(\u001b[38;5;28mmax\u001b[39m(y_left_end, y_right_end) + \u001b[32m10\u001b[39m)\n\u001b[32m     14\u001b[39m \u001b[38;5;66;03m# Save it\u001b[39;00m\n\u001b[32m---> \u001b[39m\u001b[32m15\u001b[39m \u001b[43mpdf\u001b[49m\u001b[43m.\u001b[49m\u001b[43moutput\u001b[49m\u001b[43m(\u001b[49m\u001b[33;43m'\u001b[39;49m\u001b[33;43mBEN.pdf\u001b[39;49m\u001b[33;43m'\u001b[39;49m\u001b[43m)\u001b[49m\n",
      "\u001b[36mFile \u001b[39m\u001b[32mc:\\Users\\Hugh\\Documents\\GITHUB\\FM_equity_research\\.venv\\Lib\\site-packages\\fpdf\\fpdf.py:1065\u001b[39m, in \u001b[36mFPDF.output\u001b[39m\u001b[34m(self, name, dest)\u001b[39m\n\u001b[32m   1063\u001b[39m \u001b[38;5;66;03m#Finish document if necessary\u001b[39;00m\n\u001b[32m   1064\u001b[39m \u001b[38;5;28;01mif\u001b[39;00m(\u001b[38;5;28mself\u001b[39m.state<\u001b[32m3\u001b[39m):\n\u001b[32m-> \u001b[39m\u001b[32m1065\u001b[39m     \u001b[38;5;28;43mself\u001b[39;49m\u001b[43m.\u001b[49m\u001b[43mclose\u001b[49m\u001b[43m(\u001b[49m\u001b[43m)\u001b[49m\n\u001b[32m   1066\u001b[39m dest=dest.upper()\n\u001b[32m   1067\u001b[39m \u001b[38;5;28;01mif\u001b[39;00m(dest==\u001b[33m'\u001b[39m\u001b[33m'\u001b[39m):\n",
      "\u001b[36mFile \u001b[39m\u001b[32mc:\\Users\\Hugh\\Documents\\GITHUB\\FM_equity_research\\.venv\\Lib\\site-packages\\fpdf\\fpdf.py:246\u001b[39m, in \u001b[36mFPDF.close\u001b[39m\u001b[34m(self)\u001b[39m\n\u001b[32m    244\u001b[39m \u001b[38;5;28mself\u001b[39m._endpage()\n\u001b[32m    245\u001b[39m \u001b[38;5;66;03m#close document\u001b[39;00m\n\u001b[32m--> \u001b[39m\u001b[32m246\u001b[39m \u001b[38;5;28;43mself\u001b[39;49m\u001b[43m.\u001b[49m\u001b[43m_enddoc\u001b[49m\u001b[43m(\u001b[49m\u001b[43m)\u001b[49m\n",
      "\u001b[36mFile \u001b[39m\u001b[32mc:\\Users\\Hugh\\Documents\\GITHUB\\FM_equity_research\\.venv\\Lib\\site-packages\\fpdf\\fpdf.py:1637\u001b[39m, in \u001b[36mFPDF._enddoc\u001b[39m\u001b[34m(self)\u001b[39m\n\u001b[32m   1635\u001b[39m \u001b[38;5;28mself\u001b[39m._putheader()\n\u001b[32m   1636\u001b[39m \u001b[38;5;28mself\u001b[39m._putpages()\n\u001b[32m-> \u001b[39m\u001b[32m1637\u001b[39m \u001b[38;5;28;43mself\u001b[39;49m\u001b[43m.\u001b[49m\u001b[43m_putresources\u001b[49m\u001b[43m(\u001b[49m\u001b[43m)\u001b[49m\n\u001b[32m   1638\u001b[39m \u001b[38;5;66;03m#Info\u001b[39;00m\n\u001b[32m   1639\u001b[39m \u001b[38;5;28mself\u001b[39m._newobj()\n",
      "\u001b[36mFile \u001b[39m\u001b[32mc:\\Users\\Hugh\\Documents\\GITHUB\\FM_equity_research\\.venv\\Lib\\site-packages\\fpdf\\fpdf.py:1585\u001b[39m, in \u001b[36mFPDF._putresources\u001b[39m\u001b[34m(self)\u001b[39m\n\u001b[32m   1583\u001b[39m \u001b[38;5;28;01mdef\u001b[39;00m\u001b[38;5;250m \u001b[39m\u001b[34m_putresources\u001b[39m(\u001b[38;5;28mself\u001b[39m):\n\u001b[32m   1584\u001b[39m     \u001b[38;5;28mself\u001b[39m._putfonts()\n\u001b[32m-> \u001b[39m\u001b[32m1585\u001b[39m     \u001b[38;5;28;43mself\u001b[39;49m\u001b[43m.\u001b[49m\u001b[43m_putimages\u001b[49m\u001b[43m(\u001b[49m\u001b[43m)\u001b[49m\n\u001b[32m   1586\u001b[39m     \u001b[38;5;66;03m#Resource dictionary\u001b[39;00m\n\u001b[32m   1587\u001b[39m     \u001b[38;5;28mself\u001b[39m.offsets[\u001b[32m2\u001b[39m]=\u001b[38;5;28mlen\u001b[39m(\u001b[38;5;28mself\u001b[39m.buffer)\n",
      "\u001b[36mFile \u001b[39m\u001b[32mc:\\Users\\Hugh\\Documents\\GITHUB\\FM_equity_research\\.venv\\Lib\\site-packages\\fpdf\\fpdf.py:1515\u001b[39m, in \u001b[36mFPDF._putimages\u001b[39m\u001b[34m(self)\u001b[39m\n\u001b[32m   1513\u001b[39m \u001b[38;5;28;01mfor\u001b[39;00m idx,info \u001b[38;5;129;01min\u001b[39;00m i:\n\u001b[32m   1514\u001b[39m     \u001b[38;5;28mself\u001b[39m._putimage(info)\n\u001b[32m-> \u001b[39m\u001b[32m1515\u001b[39m     \u001b[38;5;28;01mdel\u001b[39;00m \u001b[43minfo\u001b[49m\u001b[43m[\u001b[49m\u001b[33;43m'\u001b[39;49m\u001b[33;43mdata\u001b[39;49m\u001b[33;43m'\u001b[39;49m\u001b[43m]\u001b[49m\n\u001b[32m   1516\u001b[39m     \u001b[38;5;28;01mif\u001b[39;00m \u001b[33m'\u001b[39m\u001b[33msmask\u001b[39m\u001b[33m'\u001b[39m \u001b[38;5;129;01min\u001b[39;00m info:\n\u001b[32m   1517\u001b[39m         \u001b[38;5;28;01mdel\u001b[39;00m info[\u001b[33m'\u001b[39m\u001b[33msmask\u001b[39m\u001b[33m'\u001b[39m]\n",
      "\u001b[31mKeyError\u001b[39m: 'data'"
     ]
    }
   ],
   "source": [
    "# Load the commentary from file\n",
    "with open(\"commentary.txt\", \"r\", encoding=\"utf-8\") as f:\n",
    "    html_content = f.read()\n",
    "\n",
    "# --------- LEFT COLUMN (Formatted HTML) ---------\n",
    "pdf.set_xy(pdf.l_margin, y_start)\n",
    "html_parser = ColumnHTMLParser(pdf, x=pdf.l_margin, y=y_start, col_width=col1_w, line_height=line_height)\n",
    "html_parser.feed(html_content)\n",
    "y_left_end = pdf.get_y()\n",
    "\n",
    "# Ensure bottom spacing is correct\n",
    "pdf.set_y(max(y_left_end, y_right_end) + 10)\n",
    "\n",
    "# Save it\n",
    "pdf.output('BEN.pdf')"
   ]
  },
  {
   "cell_type": "markdown",
   "id": "d37fd9ef",
   "metadata": {},
   "source": [
    "To provide context for the recent financial performance of the company in 1H25, an image was scrapped from the companies recent announcement of key regulatory ratios and indicators of loan book health. These statistics could not be inferred from the yFinance data and thus provided unique value to the report."
   ]
  },
  {
   "cell_type": "code",
   "execution_count": 14,
   "id": "1a0ad574",
   "metadata": {},
   "outputs": [
    {
     "name": "stdout",
     "output_type": "stream",
     "text": [
      "Image URL: https://www.bendigobank.com.au/contentassets/f4ca4760f8394c3582ce67b6a6334bbc/price-table.png\n"
     ]
    }
   ],
   "source": [
    "import requests\n",
    "from bs4 import BeautifulSoup\n",
    "from urllib.parse import urljoin\n",
    "\n",
    "# Step 1: Define the URL\n",
    "url = 'https://www.bendigobank.com.au/media/financial-results-for-the-half-year-ended-31-december-2024/'\n",
    "\n",
    "# Step 2: Fetch the webpage\n",
    "response = requests.get(url)\n",
    "response.raise_for_status()\n",
    "\n",
    "# Step 3: Parse the HTML\n",
    "soup = BeautifulSoup(response.text, 'html.parser')\n",
    "\n",
    "# Step 4: Find the image with the specific src\n",
    "target_src = '/contentassets/f4ca4760f8394c3582ce67b6a6334bbc/price-table.png'\n",
    "img_tag = soup.find('img', {'src': target_src})\n",
    "\n",
    "# Step 5: If found, build the full image URL and download\n",
    "if img_tag:\n",
    "    img_url = urljoin(url, img_tag['src'])  # Build absolute URL\n",
    "    print(f\"Image URL: {img_url}\")\n",
    "    \n",
    "    # Optional: Download the image\n",
    "    img_response = requests.get(img_url)\n",
    "    img_response.raise_for_status()\n",
    "    with open('data_table.png', 'wb') as f:\n",
    "        f.write(img_response.content)\n",
    "\n",
    "from PIL import Image  # <-- add this!\n",
    "\n",
    "# Right column: image instead of placeholder text\n",
    "ORIGINAL_IMAGE = 'financial_results.png'\n",
    "CROPPED_IMAGE = 'cropped_financial_results.png'  # temp file\n",
    "\n",
    "# Function to crop the left half of an image\n",
    "def crop_left_half(input_path, output_path):\n",
    "    with Image.open(input_path) as img:\n",
    "        width, height = img.size\n",
    "        # Crop (left, top, right, bottom)\n",
    "        left_half = img.crop((0, 0, width // 2, height))\n",
    "        left_half.save(output_path)\n",
    "\n",
    "# Crop the image before doing anything else\n",
    "crop_left_half(ORIGINAL_IMAGE, CROPPED_IMAGE)"
   ]
  },
  {
   "cell_type": "code",
   "execution_count": 6,
   "id": "6e2a7ed0",
   "metadata": {},
   "outputs": [
    {
     "name": "stdout",
     "output_type": "stream",
     "text": [
      "Banks campaign for cash levy to avoid Armaguard ‘monopoly’\n",
      "Slash stamp duty to encourage retirees to downsize: ING\n",
      "Bank profit falls send uneasy investors into panic mode\n",
      "The ASX queries Bendigo Bank’s disclosures after share price tumble\n",
      "What we learnt: Investors just handed out the biggest beating of profit season\n",
      "Surge in Bendigo Bank lending crunches margins, sends shares sliding\n",
      "Westpac boss supports RBA rate cut, says it will deliver needed relief\n",
      "Banks would face new loan regime under Coalition amid ESG pushback\n",
      "Credit to Chalmers for non-partisan RBA picks\n",
      "Macquarie, Westpac and CBA big losers from $350m rural bank levy\n"
     ]
    }
   ],
   "source": [
    "import requests\n",
    "from bs4 import BeautifulSoup\n",
    "\n",
    "# Reading in AFR URL for Bendigo Website\n",
    "AFR = 'https://www.afr.com/company/asx/ben'\n",
    "RawHTML = requests.get(AFR)\n",
    "\n",
    "# Parse the raw HTML using BeautifulSoup\n",
    "parse = BeautifulSoup(RawHTML.content, 'html.parser')\n",
    "\n",
    "# Find recent AFR headlines by filtering to publication-specific format\n",
    "headlines = parse.find_all('h3', class_='-_73414cb90844eda9-headline')\n",
    "\n",
    "# Pull and print the most recent 10 headlines\n",
    "for headline in headlines[:10]:\n",
    "    print(headline.get_text(strip=True))"
   ]
  }
 ],
 "metadata": {
  "kernelspec": {
   "display_name": ".venv",
   "language": "python",
   "name": "python3"
  },
  "language_info": {
   "codemirror_mode": {
    "name": "ipython",
    "version": 3
   },
   "file_extension": ".py",
   "mimetype": "text/x-python",
   "name": "python",
   "nbconvert_exporter": "python",
   "pygments_lexer": "ipython3",
   "version": "3.11.2"
  }
 },
 "nbformat": 4,
 "nbformat_minor": 5
}
